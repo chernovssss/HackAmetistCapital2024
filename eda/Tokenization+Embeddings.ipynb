{
 "cells": [
  {
   "cell_type": "markdown",
   "id": "60f37efb-5565-4248-a7e7-0220ba61713c",
   "metadata": {},
   "source": [
    "# Clean data"
   ]
  },
  {
   "cell_type": "code",
   "execution_count": 1,
   "id": "85fe6878-17ec-4b6c-8454-d388364fd16e",
   "metadata": {},
   "outputs": [],
   "source": [
    "import pandas as pd\n",
    "\n",
    "classification1 = pd.read_excel(\n",
    "    \"../data/train_Ametist/classification.xlsx\",\n",
    "    sheet_name=\"Материалы, изд, констр и оборуд\",\n",
    ")\n",
    "classification2 = pd.read_excel(\n",
    "    \"../data/train_Ametist/classification.xlsx\", sheet_name=\"Машины и механизмы\"\n",
    ")\n",
    "classification = pd.concat([classification1, classification2], axis=0)\n",
    "train_data = pd.read_excel(\"../data/train_Ametist/train.xlsx\")"
   ]
  },
  {
   "cell_type": "markdown",
   "id": "f1c3fd51-29c2-445d-aefc-7aecabe23264",
   "metadata": {},
   "source": [
    "## Classification data"
   ]
  },
  {
   "cell_type": "code",
   "execution_count": 2,
   "id": "0a6a6264-4c30-41ef-b9f2-ab6cd9bbcf26",
   "metadata": {},
   "outputs": [
    {
     "name": "stdout",
     "output_type": "stream",
     "text": [
      "216113 213083\n"
     ]
    },
    {
     "data": {
      "text/html": [
       "<div>\n",
       "<style scoped>\n",
       "    .dataframe tbody tr th:only-of-type {\n",
       "        vertical-align: middle;\n",
       "    }\n",
       "\n",
       "    .dataframe tbody tr th {\n",
       "        vertical-align: top;\n",
       "    }\n",
       "\n",
       "    .dataframe thead th {\n",
       "        text-align: right;\n",
       "    }\n",
       "</style>\n",
       "<table border=\"1\" class=\"dataframe\">\n",
       "  <thead>\n",
       "    <tr style=\"text-align: right;\">\n",
       "      <th></th>\n",
       "      <th>code</th>\n",
       "      <th>name</th>\n",
       "      <th>measure</th>\n",
       "    </tr>\n",
       "  </thead>\n",
       "  <tbody>\n",
       "    <tr>\n",
       "      <th>0</th>\n",
       "      <td>01.1.01.01-0002</td>\n",
       "      <td>Детали фасонные коньковые к листам хризотилцем...</td>\n",
       "      <td>100 компл</td>\n",
       "    </tr>\n",
       "    <tr>\n",
       "      <th>1</th>\n",
       "      <td>23.65.12.190.01.1.01.01-0002-000</td>\n",
       "      <td>Детали фасонные коньковые к листам хризотилцем...</td>\n",
       "      <td>100 компл</td>\n",
       "    </tr>\n",
       "    <tr>\n",
       "      <th>2</th>\n",
       "      <td>01.1.01.02-0011</td>\n",
       "      <td>Доска электротехническая дугостойкая (АЦЭИД), ...</td>\n",
       "      <td>т</td>\n",
       "    </tr>\n",
       "    <tr>\n",
       "      <th>3</th>\n",
       "      <td>23.65.12.190.01.1.01.02-0011-000</td>\n",
       "      <td>Доска электротехническая дугостойкая (АЦЭИД), ...</td>\n",
       "      <td>т</td>\n",
       "    </tr>\n",
       "    <tr>\n",
       "      <th>4</th>\n",
       "      <td>01.1.01.04-1018</td>\n",
       "      <td>Листы хризотилцементные волнистые, профиль 40/...</td>\n",
       "      <td>м2</td>\n",
       "    </tr>\n",
       "  </tbody>\n",
       "</table>\n",
       "</div>"
      ],
      "text/plain": [
       "                               code  \\\n",
       "0                   01.1.01.01-0002   \n",
       "1  23.65.12.190.01.1.01.01-0002-000   \n",
       "2                   01.1.01.02-0011   \n",
       "3  23.65.12.190.01.1.01.02-0011-000   \n",
       "4                   01.1.01.04-1018   \n",
       "\n",
       "                                                name    measure  \n",
       "0  Детали фасонные коньковые к листам хризотилцем...  100 компл  \n",
       "1  Детали фасонные коньковые к листам хризотилцем...  100 компл  \n",
       "2  Доска электротехническая дугостойкая (АЦЭИД), ...          т  \n",
       "3  Доска электротехническая дугостойкая (АЦЭИД), ...          т  \n",
       "4  Листы хризотилцементные волнистые, профиль 40/...         м2  "
      ]
     },
     "execution_count": 2,
     "metadata": {},
     "output_type": "execute_result"
    }
   ],
   "source": [
    "clear_mask = classification.dropna(axis=0, how='any').iloc[:, 0].apply(lambda x: all(c in '0123456789.- ' for c in x))\n",
    "cleared_classification = classification.dropna(axis=0, how='any')[clear_mask].rename(columns={'Классификатор строительных ресурсов': 'code', 'Unnamed: 1': 'name', 'Unnamed: 2': 'measure'})\n",
    "cleared_classification = cleared_classification.reset_index(drop=True)d\n",
    "print(classification.shape[0], cleared_classification.shape[0])\n",
    "cleared_classification.head()"
   ]
  },
  {
   "cell_type": "markdown",
   "id": "34194047-0b39-4c5e-bc9f-44b666561eb6",
   "metadata": {},
   "source": [
    "## Train data"
   ]
  },
  {
   "cell_type": "code",
   "execution_count": 3,
   "id": "c3211023-3e00-4ce4-b904-f3c58fd661fd",
   "metadata": {},
   "outputs": [
    {
     "data": {
      "text/html": [
       "<div>\n",
       "<style scoped>\n",
       "    .dataframe tbody tr th:only-of-type {\n",
       "        vertical-align: middle;\n",
       "    }\n",
       "\n",
       "    .dataframe tbody tr th {\n",
       "        vertical-align: top;\n",
       "    }\n",
       "\n",
       "    .dataframe thead th {\n",
       "        text-align: right;\n",
       "    }\n",
       "</style>\n",
       "<table border=\"1\" class=\"dataframe\">\n",
       "  <thead>\n",
       "    <tr style=\"text-align: right;\">\n",
       "      <th></th>\n",
       "      <th>record_name</th>\n",
       "      <th>record_name_2</th>\n",
       "      <th>ref_code</th>\n",
       "      <th>ref_name</th>\n",
       "      <th>ref_unit</th>\n",
       "    </tr>\n",
       "  </thead>\n",
       "  <tbody>\n",
       "    <tr>\n",
       "      <th>0</th>\n",
       "      <td>DIN -рейка оцинкованная ТН35-7.5 100 см (Chint)</td>\n",
       "      <td>DIN-рейка 35х7,5 мм длиной 1000 мм</td>\n",
       "      <td>27.33.13.130.20.2.08.01-0001-000</td>\n",
       "      <td>DIN-рейки металлические, оцинкованные, размеры...</td>\n",
       "      <td>100 шт</td>\n",
       "    </tr>\n",
       "    <tr>\n",
       "      <th>1</th>\n",
       "      <td>Анкерный элемент ТехноНиколь 8*45мм</td>\n",
       "      <td>Анкерный элемент TN 8x4.5</td>\n",
       "      <td>25.94.11.190.01.7.15.01-1169-000</td>\n",
       "      <td>Анкер грунтовый забивной самораскрывающийся, о...</td>\n",
       "      <td>шт</td>\n",
       "    </tr>\n",
       "    <tr>\n",
       "      <th>2</th>\n",
       "      <td>Анкер забивной М10 DRM 12x40 сталь</td>\n",
       "      <td>Анкер втулочный M10</td>\n",
       "      <td>25.94.11.190.01.7.15.01-0037-000</td>\n",
       "      <td>Анкер забивной латунный, диаметр внутренней ре...</td>\n",
       "      <td>шт</td>\n",
       "    </tr>\n",
       "    <tr>\n",
       "      <th>3</th>\n",
       "      <td>Анкер забивной М10/12x40</td>\n",
       "      <td>Анкер втулочный M10</td>\n",
       "      <td>25.94.11.190.01.7.15.01-0037-000</td>\n",
       "      <td>Анкер забивной латунный, диаметр внутренней ре...</td>\n",
       "      <td>шт</td>\n",
       "    </tr>\n",
       "    <tr>\n",
       "      <th>4</th>\n",
       "      <td>Анкер забивной М8 LAZ латунь</td>\n",
       "      <td>Анкер втулочный M8</td>\n",
       "      <td>25.94.11.190.01.7.15.01-0036-000</td>\n",
       "      <td>Анкер забивной латунный, диаметр внутренней ре...</td>\n",
       "      <td>шт</td>\n",
       "    </tr>\n",
       "  </tbody>\n",
       "</table>\n",
       "</div>"
      ],
      "text/plain": [
       "                                       record_name  \\\n",
       "0  DIN -рейка оцинкованная ТН35-7.5 100 см (Chint)   \n",
       "1              Анкерный элемент ТехноНиколь 8*45мм   \n",
       "2               Анкер забивной М10 DRM 12x40 сталь   \n",
       "3                         Анкер забивной М10/12x40   \n",
       "4                     Анкер забивной М8 LAZ латунь   \n",
       "\n",
       "                        record_name_2                          ref_code  \\\n",
       "0  DIN-рейка 35х7,5 мм длиной 1000 мм  27.33.13.130.20.2.08.01-0001-000   \n",
       "1           Анкерный элемент TN 8x4.5  25.94.11.190.01.7.15.01-1169-000   \n",
       "2                 Анкер втулочный M10  25.94.11.190.01.7.15.01-0037-000   \n",
       "3                 Анкер втулочный M10  25.94.11.190.01.7.15.01-0037-000   \n",
       "4                  Анкер втулочный M8  25.94.11.190.01.7.15.01-0036-000   \n",
       "\n",
       "                                            ref_name ref_unit  \n",
       "0  DIN-рейки металлические, оцинкованные, размеры...   100 шт  \n",
       "1  Анкер грунтовый забивной самораскрывающийся, о...       шт  \n",
       "2  Анкер забивной латунный, диаметр внутренней ре...       шт  \n",
       "3  Анкер забивной латунный, диаметр внутренней ре...       шт  \n",
       "4  Анкер забивной латунный, диаметр внутренней ре...       шт  "
      ]
     },
     "execution_count": 3,
     "metadata": {},
     "output_type": "execute_result"
    }
   ],
   "source": [
    "train_data.head()"
   ]
  },
  {
   "cell_type": "markdown",
   "id": "351482f4-f02e-434d-bdb0-9d6c99c80e92",
   "metadata": {},
   "source": [
    "# SentenceTokenizer model"
   ]
  },
  {
   "cell_type": "code",
   "execution_count": 4,
   "id": "58ffef34-ecd9-41a5-8bc1-5a2aa7f34ea5",
   "metadata": {},
   "outputs": [
    {
     "name": "stderr",
     "output_type": "stream",
     "text": [
      "/home/peter/anaconda3/envs/ametist/lib/python3.10/site-packages/huggingface_hub/file_download.py:1132: FutureWarning: `resume_download` is deprecated and will be removed in version 1.0.0. Downloads always resume when possible. If you want to force a new download, use `force_download=True`.\n",
      "  warnings.warn(\n",
      "/home/peter/anaconda3/envs/ametist/lib/python3.10/site-packages/huggingface_hub/file_download.py:1132: FutureWarning: `resume_download` is deprecated and will be removed in version 1.0.0. Downloads always resume when possible. If you want to force a new download, use `force_download=True`.\n",
      "  warnings.warn(\n"
     ]
    },
    {
     "data": {
      "text/plain": [
       "SentenceTransformer(\n",
       "  (0): Transformer({'max_seq_length': 512, 'do_lower_case': False}) with Transformer model: BertModel \n",
       "  (1): Pooling({'word_embedding_dimension': 768, 'pooling_mode_cls_token': False, 'pooling_mode_mean_tokens': True, 'pooling_mode_max_tokens': False, 'pooling_mode_mean_sqrt_len_tokens': False, 'pooling_mode_weightedmean_tokens': False, 'pooling_mode_lasttoken': False, 'include_prompt': True})\n",
       ")"
      ]
     },
     "execution_count": 4,
     "metadata": {},
     "output_type": "execute_result"
    }
   ],
   "source": [
    "from sentence_transformers import SentenceTransformer, util\n",
    "\n",
    "model = SentenceTransformer(\"DiTy/bi-encoder-russian-msmarco\")\n",
    "model"
   ]
  },
  {
   "cell_type": "code",
   "execution_count": 5,
   "id": "4cf1002c-3528-42e5-9652-7fd6885885a5",
   "metadata": {},
   "outputs": [
    {
     "name": "stdout",
     "output_type": "stream",
     "text": [
      "Мач|##та|сек|##ционно|-|поворот|##ная|для|установки|2|-|х|антенн|,|высота|5|м\n",
      "----------\n",
      "Дол|##ото|трех|##шар|##оше|##чное|III|349|,|2|Т|-|Ц|##В\n",
      "----------\n",
      "Мат|##ы|прош|##ивные|теплоизоля|##ционные|из|минеральной|ват|##ы|,|без|об|##клад|##ок|,|марка|100|,|толщина|80|мм\n",
      "----------\n",
      "Хомут|чугун|##ный|сед|##елка|для|бесс|##вар|##ного|соединения|под|муфт|##у|,|диаметр|200|##х|##80|мм\n",
      "----------\n",
      "Кран|шаров|##ой|цельно|##св|##арной|10|##с|##71|##фт|полно|##проход|##ной|из|кован|##ной|стали|под|прив|##арку|,|без|опоры|скольжения|,|для|надзем|##ной|установки|,|управление|ручкой|,|номинально|##е|давление|4|,|0|МПа|(|40|кгс|/|см|##2|)|,|номинал|##ь|##ный|диаметр|150|мм\n",
      "----------\n",
      "Каб|##ель|силовой|с|алюминиев|##ыми|жила|##ми|АВ|##ВГ|##нг|-|LS|4х|##16|-|660\n",
      "----------\n",
      "Короб|кабель|##ный|одно|##ярус|##ный|,|окрашен|##ный|,|сейсм|##остой|##кий|,|угловой|,|на|четыре|направления|под|углом|90|град|.|,|толщина|металла|1|,|5|мм|,|2|-|3|класс|безопасности|,|габар|##итный|размер|100|##x|##300|##x|##51|##2|мм\n",
      "----------\n",
      "Камер|##ы|сборные|одностороннего|обслуживания|,|напряжение|6|-|10|кВ|,|номер|схемы|14|,|номинал|##ь|##ный|ток|1250|А\n",
      "----------\n",
      "Модуль|фасад|##ный|двух|##слой|##ный|навес|##ной|,|наруж|##ная|отделка|плит|##ками|керам|##огран|##итным|##и|,|каркас|из|алюминиевых|сплавов|,|утеп|##лите|##ль|из|минералов|##атных|плит|на|основе|базаль|##тового|волокна|толщиной|70|мм|,|размеры|1500|##х|##400|##0|мм\n",
      "----------\n",
      "Кла|##пан|зап|##орный|С|.|КЗ|##СБ|150|-|00|-|00|-|К|,|исполнение|01|,|силь|##фон|##ный|ручной|,|с|замком|,|3|класс|безопасности\n",
      "----------\n",
      "Провод|неиз|##оли|##рован|##ный|би|##металл|##ический|стал|##еме|##д|##ный|первого|класса|проводимости|,|марки|П|##БС|##М|##1|,|номинальным|сечение|##м|,|мм|##2|:|50\n",
      "----------\n",
      "Шп|##ат|##лев|##ка|Н|##Ц|-|008\n",
      "----------\n",
      "Экск|##ават|##оры|для|подземных|работ|,|емкость|ковш|##а|1|,|2|м|##3\n",
      "----------\n",
      "Стой|##ка|железобетон|##ная|центриф|##уги|##рован|##ная|с|кон|##ичностью|1|,|0|%|повышенной|корроз|##ионной|стойкости|и|для|температуры|наружного|воздуха|ниже|минус|40|°C|с|анк|##ерным|крепление|##м|база|400|##x|##500|(|417|##8|)|СТ|##А|120|.|7|-|4|.|3|-|Э|-|М\n",
      "----------\n",
      "Труб|##ы|стальные|бури|##льные|ут|##яжел|##енные|из|стали|группы|К|,|тип|УБ|##Т|,|наружный|диаметр|203|мм\n",
      "----------\n",
      "Состав|огне|##за|##щи|##т|##ный|для|кабельных|проход|##ок|из|сухой|смеси|на|основе|всп|##уче|##н|##ного|вер|##мик|##ули|##та|,|неорган|##ического|связ|##ующего|,|наполн|##ителей|и|целевых|добавок|для|приготовления|раствора|,|насып|##ная|плотность|в|сухом|состоянии|350|-|450|кг|/|м|##3\n",
      "----------\n",
      "См|##еси|бетонные|тяжелого|бетона|(|БС|##Т|)|для|дорожных|и|аэродром|##ных|покрытий|и|оснований|на|известняков|##ом|щеб|##не|с|максимальной|крупно|##стью|более|20|мм|,|класс|В|##25|(|М|##35|##0|)|,|F|(|2|)|150|,|W|##4|-|W|##6\n",
      "----------\n",
      "Труб|##ки|латун|##ные|,|холодно|##де|##форм|##ированные|,|круглые|,|тверд|##ые|,|нормальной|точности|изготовления|,|толщина|стенки|0|,|7|мм|,|номинал|##ь|##ный|наружный|диаметр|10|,|2|-|18|,|0|мм\n",
      "----------\n",
      "Труб|##а|полип|##роп|##илен|##овая|растр|##уб|##ная|для|систем|водоот|##ведения|,|размеры|50|##х|##1|,|8|мм|,|длина|3|,|0|м\n",
      "----------\n",
      "Отв|##од|90°|пластиков|##ый|для|жестких|труб|,|номинал|##ь|##ный|внутренний|диаметр|50|мм\n",
      "----------\n"
     ]
    }
   ],
   "source": [
    "for i in range(20):\n",
    "    print(\n",
    "        \"|\".join(model.tokenizer.tokenize(cleared_classification.name.sample().item()))\n",
    "    )\n",
    "    print(\"-\" * 10)"
   ]
  },
  {
   "cell_type": "markdown",
   "id": "8b6548f6-4810-4ace-a2cf-e2cc80a4d852",
   "metadata": {},
   "source": [
    "## Compare similar (but not equal names)"
   ]
  },
  {
   "cell_type": "code",
   "execution_count": 6,
   "id": "20f0e180-cef2-4011-9f32-cdebe8701ace",
   "metadata": {},
   "outputs": [
    {
     "name": "stdout",
     "output_type": "stream",
     "text": [
      "Детали фасонные коньковые к листам хризотилцементным волнистым\n",
      "Доска электротехническая дугостойкая (АЦЭИД), толщина 6 мм\n",
      "Листы хризотилцементные волнистые, профиль 40/150, 7-волновые, толщина 5,2 мм\n",
      "Листы хризотилцементные волнистые, профиль 40/150, 8-волновые, толщина 5,2 мм\n",
      "Листы хризотилцементные волнистые, профиль 40/150, 8-волновые, окрашенные, толщина 5,2 мм\n",
      "Листы хризотилцементные волнистые, профиль 40/150, 8-волновые, окрашенные, толщина 5,8 мм\n",
      "Листы хризотилцементные волнистые, профиль 51/177, толщина 5,2 мм\n",
      "Листы хризотилцементные волнистые, профиль 51/177, 6 волновые, толщина 5,2 мм\n",
      "Листы хризотилцементные волнистые, профиль 51/177, толщина 6 мм\n",
      "Листы хризотилцементные волнистые, профиль 51/177, 6 волновые, толщина 6 мм\n",
      "Листы хризотилцементные волнистые, профиль 40/150, толщина 5,8 мм\n",
      "Листы хризотилцементные плоские непрессованные, толщина 6 мм\n",
      "Листы хризотилцементные плоские непрессованные, толщина 8 мм\n",
      "Листы хризотилцементные плоские непрессованные, толщина 10 мм\n",
      "Листы хризотилцементные плоские прессованные, толщина 6 мм\n",
      "Листы хризотилцементные плоские прессованные, толщина 8 мм\n",
      "Листы хризотилцементные плоские прессованные, толщина 10 мм\n",
      "Листы хризотилцементные плоские непрессованные, толщина 12 мм\n",
      "Листы хризотилцементные плоские прессованные, толщина 12 мм\n",
      "Плиты хризотилцементные плоские прессованные фасадные с гладкой поверхностью и лакокрасочным защитно-декоративным покрытием, толщина 8 мм\n"
     ]
    }
   ],
   "source": [
    "for e in cleared_classification.name.iloc[:40:2]:\n",
    "    print(e)"
   ]
  },
  {
   "cell_type": "code",
   "execution_count": 7,
   "id": "4bb601e4-aa12-4e8e-874b-f4420806da84",
   "metadata": {},
   "outputs": [
    {
     "name": "stdout",
     "output_type": "stream",
     "text": [
      "target: Листы хризотилцементные волнистые, профиль 40/150, 7-волновые, толщина 5,2 мм\n",
      "\n",
      "Листы хризотилцементные волнистые, профиль 40/150, 8-волновые, толщина 5,2 мм - 0.9994583129882812\n",
      "Листы хризотилцементные волнистые, профиль 40/150, 8-волновые, окрашенные, толщина 5,8 мм - 0.9136314392089844\n",
      "Листы хризотилцементные волнистые, профиль 40/150, 8-волновые, окрашенные, толщина 5,2 мм - 0.9128578901290894\n",
      "Листы хризотилцементные волнистые, профиль 51/177, 6 волновые, толщина 6 мм - 0.8978011608123779\n",
      "Листы хризотилцементные волнистые, профиль 51/177, 6 волновые, толщина 5,2 мм - 0.8914273977279663\n",
      "Листы хризотилцементные волнистые, профиль 40/150, толщина 5,8 мм - 0.7841696739196777\n",
      "Листы хризотилцементные волнистые, профиль 51/177, толщина 5,2 мм - 0.7454618811607361\n",
      "Листы хризотилцементные волнистые, профиль 51/177, толщина 6 мм - 0.7051211595535278\n",
      "Листы хризотилцементные плоские прессованные, толщина 12 мм - 0.6052501201629639\n"
     ]
    }
   ],
   "source": [
    "sentences = cleared_classification.name.iloc[:40:2].to_list()\n",
    "\n",
    "embeddings = model.encode(sentences)\n",
    "\n",
    "target_idx = 2\n",
    "\n",
    "ss = util.semantic_search(embeddings[target_idx], embeddings)[0]\n",
    "\n",
    "print(f\"target: {sentences[target_idx]}\\n\")\n",
    "\n",
    "for e in ss:\n",
    "    if e[\"corpus_id\"] == 2:\n",
    "        continue\n",
    "    print(f'{sentences[e[\"corpus_id\"]]} - {e[\"score\"]}')"
   ]
  },
  {
   "cell_type": "code",
   "execution_count": 8,
   "id": "8c935811-0275-4e0f-8d9b-bd7827dc6383",
   "metadata": {},
   "outputs": [
    {
     "data": {
      "text/plain": [
       "<Axes: >"
      ]
     },
     "execution_count": 8,
     "metadata": {},
     "output_type": "execute_result"
    },
    {
     "data": {
      "image/png": "[encoded data removed]",
      "text/plain": [
       "<Figure size 640x480 with 2 Axes>"
      ]
     },
     "metadata": {},
     "output_type": "display_data"
    }
   ],
   "source": [
    "import torch\n",
    "import torch.nn.functional as F\n",
    "import numpy as np\n",
    "import seaborn as sns\n",
    "\n",
    "\n",
    "def pairwise_similarity(embs):\n",
    "    sim_matrix = np.zeros((embs.shape[0], embs.shape[0]))\n",
    "\n",
    "    for i in range(embs.shape[0]):\n",
    "        for j in range(embs.shape[0]):\n",
    "            sim_matrix[i, j] = F.cosine_similarity(\n",
    "                torch.from_numpy(embs[i]), torch.from_numpy(embs[j]), dim=0\n",
    "            )\n",
    "    return sim_matrix\n",
    "\n",
    "\n",
    "# 1й и 2й эелементы лежат в других группах, 3й-18й в одной\n",
    "\n",
    "sim_matrix = pairwise_similarity(embeddings)\n",
    "sns.heatmap(sim_matrix)"
   ]
  },
  {
   "cell_type": "markdown",
   "id": "bc6d663f-6928-48f7-a870-4533a4f768e5",
   "metadata": {},
   "source": [
    "## Compare wrongful terminations from train with rightful ones"
   ]
  },
  {
   "cell_type": "code",
   "execution_count": 9,
   "id": "24325b75-e59c-4d7f-8955-88862fab4b35",
   "metadata": {},
   "outputs": [
    {
     "data": {
      "text/html": [
       "<div>\n",
       "<style scoped>\n",
       "    .dataframe tbody tr th:only-of-type {\n",
       "        vertical-align: middle;\n",
       "    }\n",
       "\n",
       "    .dataframe tbody tr th {\n",
       "        vertical-align: top;\n",
       "    }\n",
       "\n",
       "    .dataframe thead th {\n",
       "        text-align: right;\n",
       "    }\n",
       "</style>\n",
       "<table border=\"1\" class=\"dataframe\">\n",
       "  <thead>\n",
       "    <tr style=\"text-align: right;\">\n",
       "      <th></th>\n",
       "      <th>record_name</th>\n",
       "      <th>record_name_2</th>\n",
       "      <th>ref_code</th>\n",
       "      <th>ref_name</th>\n",
       "      <th>ref_unit</th>\n",
       "    </tr>\n",
       "  </thead>\n",
       "  <tbody>\n",
       "    <tr>\n",
       "      <th>0</th>\n",
       "      <td>DIN -рейка оцинкованная ТН35-7.5 100 см (Chint)</td>\n",
       "      <td>DIN-рейка 35х7,5 мм длиной 1000 мм</td>\n",
       "      <td>27.33.13.130.20.2.08.01-0001-000</td>\n",
       "      <td>DIN-рейки металлические, оцинкованные, размеры...</td>\n",
       "      <td>100 шт</td>\n",
       "    </tr>\n",
       "    <tr>\n",
       "      <th>1</th>\n",
       "      <td>Анкерный элемент ТехноНиколь 8*45мм</td>\n",
       "      <td>Анкерный элемент TN 8x4.5</td>\n",
       "      <td>25.94.11.190.01.7.15.01-1169-000</td>\n",
       "      <td>Анкер грунтовый забивной самораскрывающийся, о...</td>\n",
       "      <td>шт</td>\n",
       "    </tr>\n",
       "    <tr>\n",
       "      <th>2</th>\n",
       "      <td>Анкер забивной М10 DRM 12x40 сталь</td>\n",
       "      <td>Анкер втулочный M10</td>\n",
       "      <td>25.94.11.190.01.7.15.01-0037-000</td>\n",
       "      <td>Анкер забивной латунный, диаметр внутренней ре...</td>\n",
       "      <td>шт</td>\n",
       "    </tr>\n",
       "    <tr>\n",
       "      <th>3</th>\n",
       "      <td>Анкер забивной М10/12x40</td>\n",
       "      <td>Анкер втулочный M10</td>\n",
       "      <td>25.94.11.190.01.7.15.01-0037-000</td>\n",
       "      <td>Анкер забивной латунный, диаметр внутренней ре...</td>\n",
       "      <td>шт</td>\n",
       "    </tr>\n",
       "    <tr>\n",
       "      <th>4</th>\n",
       "      <td>Анкер забивной М8 LAZ латунь</td>\n",
       "      <td>Анкер втулочный M8</td>\n",
       "      <td>25.94.11.190.01.7.15.01-0036-000</td>\n",
       "      <td>Анкер забивной латунный, диаметр внутренней ре...</td>\n",
       "      <td>шт</td>\n",
       "    </tr>\n",
       "  </tbody>\n",
       "</table>\n",
       "</div>"
      ],
      "text/plain": [
       "                                       record_name  \\\n",
       "0  DIN -рейка оцинкованная ТН35-7.5 100 см (Chint)   \n",
       "1              Анкерный элемент ТехноНиколь 8*45мм   \n",
       "2               Анкер забивной М10 DRM 12x40 сталь   \n",
       "3                         Анкер забивной М10/12x40   \n",
       "4                     Анкер забивной М8 LAZ латунь   \n",
       "\n",
       "                        record_name_2                          ref_code  \\\n",
       "0  DIN-рейка 35х7,5 мм длиной 1000 мм  27.33.13.130.20.2.08.01-0001-000   \n",
       "1           Анкерный элемент TN 8x4.5  25.94.11.190.01.7.15.01-1169-000   \n",
       "2                 Анкер втулочный M10  25.94.11.190.01.7.15.01-0037-000   \n",
       "3                 Анкер втулочный M10  25.94.11.190.01.7.15.01-0037-000   \n",
       "4                  Анкер втулочный M8  25.94.11.190.01.7.15.01-0036-000   \n",
       "\n",
       "                                            ref_name ref_unit  \n",
       "0  DIN-рейки металлические, оцинкованные, размеры...   100 шт  \n",
       "1  Анкер грунтовый забивной самораскрывающийся, о...       шт  \n",
       "2  Анкер забивной латунный, диаметр внутренней ре...       шт  \n",
       "3  Анкер забивной латунный, диаметр внутренней ре...       шт  \n",
       "4  Анкер забивной латунный, диаметр внутренней ре...       шт  "
      ]
     },
     "execution_count": 9,
     "metadata": {},
     "output_type": "execute_result"
    }
   ],
   "source": [
    "train_data.head()"
   ]
  },
  {
   "cell_type": "code",
   "execution_count": 10,
   "id": "064be8ce-f699-4f03-b920-df9811e6e2f0",
   "metadata": {},
   "outputs": [
    {
     "data": {
      "image/png": "[encoded data removed]",
      "text/plain": [
       "<Figure size 640x480 with 1 Axes>"
      ]
     },
     "metadata": {},
     "output_type": "display_data"
    }
   ],
   "source": [
    "import matplotlib.pyplot as plt\n",
    "\n",
    "\n",
    "ref_embeddings = model.encode(train_data.ref_name.to_list(), convert_to_tensor=True)\n",
    "wrong_embeddings1 = model.encode(\n",
    "    train_data.record_name.to_list(), convert_to_tensor=True\n",
    ")\n",
    "wrong_embeddings2 = model.encode(\n",
    "    train_data.record_name_2.to_list(), convert_to_tensor=True\n",
    ")\n",
    "\n",
    "distances = torch.zeros((ref_embeddings.shape[0] * 2,))\n",
    "distances[: ref_embeddings.shape[0]] = F.cosine_similarity(\n",
    "    ref_embeddings, wrong_embeddings1, dim=1\n",
    ")\n",
    "distances[ref_embeddings.shape[0] :] = F.cosine_similarity(\n",
    "    ref_embeddings, wrong_embeddings2, dim=1\n",
    ")\n",
    "\n",
    "plt.boxplot(distances)"
   ]
  },
  {
   "cell_type": "code",
   "execution_count": 11,
   "id": "f0c13b78-e5cb-4bfa-b4d0-26f0092842a4",
   "metadata": {},
   "outputs": [],
   "source": [
    "classification_embeddings = model.encode(\n",
    "    cleared_classification.name.to_list(), convert_to_tensor=True\n",
    ")"
   ]
  },
  {
   "cell_type": "code",
   "execution_count": 12,
   "id": "db35f187-6058-4b4e-9941-3b9a8ab5d5b2",
   "metadata": {},
   "outputs": [
    {
     "data": {
      "application/vnd.jupyter.widget-view+json": {
       "model_id": "1bf068f4d24540f1803ff6e1a0ca2c1e",
       "version_major": 2,
       "version_minor": 0
      },
      "text/plain": [
       "  0%|          | 0/2407 [00:00<?, ?it/s]"
      ]
     },
     "metadata": {},
     "output_type": "display_data"
    },
    {
     "data": {
      "application/vnd.jupyter.widget-view+json": {
       "model_id": "38cbd5af5f4b49d79e435bc72d155a2f",
       "version_major": 2,
       "version_minor": 0
      },
      "text/plain": [
       "  0%|          | 0/2407 [00:00<?, ?it/s]"
      ]
     },
     "metadata": {},
     "output_type": "display_data"
    }
   ],
   "source": [
    "from tqdm.notebook import trange\n",
    "\n",
    "correct_matches = 0\n",
    "\n",
    "for i in trange(wrong_embeddings1.shape[0]):\n",
    "    ref_emb_distance = F.cosine_similarity(\n",
    "        ref_embeddings[i], wrong_embeddings1[i], dim=0\n",
    "    ).item()\n",
    "    classification_emb_distances = F.cosine_similarity(\n",
    "        classification_embeddings, wrong_embeddings1[i].unsqueeze(0), dim=1\n",
    "    )\n",
    "\n",
    "    if (\n",
    "        train_data.ref_name.iloc[i]\n",
    "        == cleared_classification.name[\n",
    "            torch.argmax(classification_emb_distances).cpu().item()\n",
    "        ]\n",
    "    ):\n",
    "        correct_matches += 1\n",
    "\n",
    "\n",
    "for i in trange(wrong_embeddings2.shape[0]):\n",
    "    ref_emb_distance = F.cosine_similarity(\n",
    "        ref_embeddings[i], wrong_embeddings2[i], dim=0\n",
    "    ).item()\n",
    "    classification_emb_distances = F.cosine_similarity(\n",
    "        classification_embeddings, wrong_embeddings2[i].unsqueeze(0), dim=1\n",
    "    )\n",
    "\n",
    "    if (\n",
    "        train_data.ref_name.iloc[i]\n",
    "        == cleared_classification.name[\n",
    "            torch.argmax(classification_emb_distances).cpu().item()\n",
    "        ]\n",
    "    ):\n",
    "        correct_matches += 1\n",
    "    # print(f'input : {train_data.record_name[i]}')\n",
    "    # print(f'ref: {train_data.ref_name[i]}')\n",
    "    # print(f'closest_classificator: {cleared_classification.name[torch.argmax(classification_emb_distances).cpu().item()]}')\n",
    "    # print(round(ref_emb_distance, 2), round(classification_emb_distances.mean().item(), 2), round(classification_emb_distances.max().item(), 2))\n",
    "    # print()"
   ]
  },
  {
   "cell_type": "code",
   "execution_count": 16,
   "id": "c1937945-bec5-4bb7-b0af-e554269cf70d",
   "metadata": {},
   "outputs": [
    {
     "data": {
      "text/plain": [
       "0.01038637307852098"
      ]
     },
     "execution_count": 16,
     "metadata": {},
     "output_type": "execute_result"
    }
   ],
   "source": [
    "correct_matches / (wrong_embeddings2.shape[0] * 2)"
   ]
  },
  {
   "cell_type": "code",
   "execution_count": null,
   "id": "de1e873f-2154-4b42-a79f-447e348acd7b",
   "metadata": {},
   "outputs": [],
   "source": []
  }
 ],
 "metadata": {
  "kernelspec": {
   "display_name": "ametist",
   "language": "python",
   "name": "ametist"
  },
  "language_info": {
   "codemirror_mode": {
    "name": "ipython",
    "version": 3
   },
   "file_extension": ".py",
   "mimetype": "text/x-python",
   "name": "python",
   "nbconvert_exporter": "python",
   "pygments_lexer": "ipython3",
   "version": "3.10.14"
  }
 },
 "nbformat": 4,
 "nbformat_minor": 5
}
