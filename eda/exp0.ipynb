{
 "cells": [
  {
   "cell_type": "code",
   "execution_count": 1,
   "id": "27b3ef55-c53e-4914-acb5-da5c66d17c01",
   "metadata": {},
   "outputs": [],
   "source": [
    "import pandas as pd\n",
    "\n",
    "classification = pd.read_excel(\"../data/train_Ametist/classification.xlsx\")\n",
    "train_data = pd.read_excel(\"../data/train_Ametist/train.xlsx\")"
   ]
  },
  {
   "cell_type": "code",
   "execution_count": 2,
   "id": "f7775494-0c63-4249-a6f0-202e6e2c156e",
   "metadata": {},
   "outputs": [],
   "source": [
    "def extract_group(text, taget=\"Группа\"):\n",
    "    text = str(text)\n",
    "    if taget in text:\n",
    "        return text.split(\":\")[-1].replace(f\"{taget} \", \"\").strip()\n",
    "    return None"
   ]
  },
  {
   "cell_type": "code",
   "execution_count": 3,
   "id": "b2cc6a0c-f544-4548-9ef0-6b67bb9d8b8c",
   "metadata": {},
   "outputs": [],
   "source": [
    "classification[\"group\"] = classification[\"Классификатор строительных ресурсов\"].apply(\n",
    "    lambda x: extract_group(x, \"Группа\")\n",
    ")\n",
    "classification[\"group\"] = classification[\"group\"].fillna(method=\"ffill\")"
   ]
  },
  {
   "cell_type": "code",
   "execution_count": 1,
   "id": "cbc1d300-4199-49db-9f27-210ddb19d8b7",
   "metadata": {},
   "outputs": [
    {
     "ename": "NameError",
     "evalue": "name 'classification' is not defined",
     "output_type": "error",
     "traceback": [
      "\u001b[1;31m---------------------------------------------------------------------------\u001b[0m",
      "\u001b[1;31mNameError\u001b[0m                                 Traceback (most recent call last)",
      "Cell \u001b[1;32mIn[1], line 1\u001b[0m\n\u001b[1;32m----> 1\u001b[0m classification[\u001b[38;5;124m'\u001b[39m\u001b[38;5;124mbook\u001b[39m\u001b[38;5;124m'\u001b[39m] \u001b[38;5;241m=\u001b[39m \u001b[43mclassification\u001b[49m[\u001b[38;5;124m'\u001b[39m\u001b[38;5;124mКлассификатор строительных ресурсов\u001b[39m\u001b[38;5;124m'\u001b[39m]\u001b[38;5;241m.\u001b[39mapply(\u001b[38;5;28;01mlambda\u001b[39;00m x: extract_group(x, \u001b[38;5;124m'\u001b[39m\u001b[38;5;124mКнига\u001b[39m\u001b[38;5;124m'\u001b[39m))\n\u001b[0;32m      2\u001b[0m classification[\u001b[38;5;124m'\u001b[39m\u001b[38;5;124mbook\u001b[39m\u001b[38;5;124m'\u001b[39m] \u001b[38;5;241m=\u001b[39m classification[\u001b[38;5;124m'\u001b[39m\u001b[38;5;124mbook\u001b[39m\u001b[38;5;124m'\u001b[39m]\u001b[38;5;241m.\u001b[39mfillna(method\u001b[38;5;241m=\u001b[39m\u001b[38;5;124m'\u001b[39m\u001b[38;5;124mffill\u001b[39m\u001b[38;5;124m'\u001b[39m)\n",
      "\u001b[1;31mNameError\u001b[0m: name 'classification' is not defined"
     ]
    }
   ],
   "source": [
    "classification[\"group\"] = classification[\"Классификатор строительных ресурсов\"].apply(\n",
    "    lambda x: extract_group(x, \"Группа\")\n",
    ")\n",
    "classification[\"group\"] = classification[\"group\"].fillna(method=\"ffill\")"
   ]
  },
  {
   "cell_type": "code",
   "execution_count": 5,
   "id": "f7910217-3ef8-4832-82dd-bcf60dc93037",
   "metadata": {},
   "outputs": [],
   "source": [
    "classification[\"part\"] = classification[\"Классификатор строительных ресурсов\"].apply(\n",
    "    lambda x: extract_group(x, \"Раздел\")\n",
    ")\n",
    "classification[\"part\"] = classification[\"part\"].fillna(method=\"ffill\")"
   ]
  },
  {
   "cell_type": "code",
   "execution_count": null,
   "id": "43eb6756-1690-421f-8906-358f50f1200c",
   "metadata": {},
   "outputs": [],
   "source": []
  },
  {
   "cell_type": "code",
   "execution_count": 6,
   "id": "f0229a67-c56b-4568-a815-346392797e15",
   "metadata": {},
   "outputs": [],
   "source": [
    "import spacy\n",
    "import re\n",
    "\n",
    "nlp = spacy.load(\n",
    "    \"ru_core_news_sm\"\n",
    ")  # нужно скачать: python -m spacy download ru_core_news_sm\n",
    "\n",
    "\n",
    "def strip_features_and_normaize(text):\n",
    "    text = re.sub(r\"\\s*-\\s*\", \"/\", text)\n",
    "    text = re.sub(r\"\\(.*?\\)|\\[.*?\\]|\\{.*?\\}\", \"\", text)\n",
    "    result = nlp(text)\n",
    "    filtered_result = filter(\n",
    "        lambda x: x.pos_ in [\"NOUN\", \"ADJ\", \"VERB\", \"PROPN\"]\n",
    "        and x.dep_\n",
    "        in [\n",
    "            \"ROOT\",\n",
    "            \"amod\",\n",
    "            \"nsubj\",\n",
    "            \"advmod\",\n",
    "            \"nmod\",\n",
    "            \"nsubjpass\",\n",
    "            \"nmod:npmod\",\n",
    "            \"nmod:poss\",\n",
    "            \"nmod:tmod\",\n",
    "            \"obl\",\n",
    "        ]\n",
    "        and len(x.text) > 2,\n",
    "        result,\n",
    "    )\n",
    "\n",
    "    return \" \".join(list([e.lemma_.strip() for e in filtered_result]))"
   ]
  },
  {
   "cell_type": "code",
   "execution_count": 7,
   "id": "4d3369a0-94f0-4720-b5c0-342f5486ec63",
   "metadata": {},
   "outputs": [],
   "source": [
    "classification = classification[4:-1].dropna(subset=\"Unnamed: 1\")\n",
    "classification = classification[\n",
    "    classification[\"Unnamed: 1\"].apply(lambda x: \"Группа\" not in x)\n",
    "]"
   ]
  },
  {
   "cell_type": "code",
   "execution_count": 8,
   "id": "1741fea6-d190-469b-83db-1031e4f9963f",
   "metadata": {},
   "outputs": [],
   "source": [
    "classification = classification[\n",
    "    classification[\"Классификатор строительных ресурсов\"].apply(lambda x: len(x) > 15)\n",
    "]"
   ]
  },
  {
   "cell_type": "code",
   "execution_count": null,
   "id": "c69e8f0b-0878-4842-8748-6a7054a92527",
   "metadata": {},
   "outputs": [],
   "source": [
    "%%time\n",
    "classification['text'] = classification['Unnamed: 1'].apply(strip_features_and_normaize)"
   ]
  },
  {
   "cell_type": "code",
   "execution_count": 115,
   "id": "e4a8ebb9-9739-48f2-9ceb-97713f2ac94f",
   "metadata": {},
   "outputs": [],
   "source": [
    "def save_to_fasttext_format(df, filename):\n",
    "    with open(filename, \"w\") as f:\n",
    "        for index, row in df.iterrows():\n",
    "            f.write(f\"__label__{'_'.join(row['group'].split())} {row['Unnamed: 1']}\\n\")"
   ]
  },
  {
   "cell_type": "code",
   "execution_count": 116,
   "id": "26625205-be6f-4f3f-895b-42f46cd42a33",
   "metadata": {},
   "outputs": [],
   "source": [
    "from sklearn.model_selection import train_test_split\n",
    "\n",
    "\n",
    "train_df, test_df = train_test_split(classification, test_size=0.2, random_state=42)\n",
    "save_to_fasttext_format(train_df, \"train.txt\")\n",
    "save_to_fasttext_format(test_df, \"test.txt\")"
   ]
  },
  {
   "cell_type": "code",
   "execution_count": 117,
   "id": "931f85f2-6ad0-4a84-bc0f-40f8a7b05ad2",
   "metadata": {},
   "outputs": [
    {
     "name": "stderr",
     "output_type": "stream",
     "text": [
      "Read 1M words\n",
      "Number of words:  53815\n",
      "Number of labels: 2078\n",
      "Progress: 100.0% words/sec/thread:  123562 lr:  0.000000 avg.loss:  4.499919 ETA:   0h 0m 0s\n"
     ]
    },
    {
     "data": {
      "text/plain": [
       "(21693, 0.6802194256211681, 0.6802194256211681)"
      ]
     },
     "execution_count": 117,
     "metadata": {},
     "output_type": "execute_result"
    }
   ],
   "source": [
    "import fasttext\n",
    "\n",
    "\n",
    "model = fasttext.train_supervised(\n",
    "    input=\"train.txt\", dim=50, ws=3, minCount=0, minCountLabel=0, wordNgrams=2\n",
    ")\n",
    "results = model.test(\"test.txt\")\n",
    "results"
   ]
  },
  {
   "cell_type": "code",
   "execution_count": 18,
   "id": "3e44c0c2-e861-42d7-97e1-17f40b2f7d3d",
   "metadata": {},
   "outputs": [
    {
     "data": {
      "text/plain": [
       "(('__label__Сетки',), array([0.11886987]))"
      ]
     },
     "execution_count": 18,
     "metadata": {},
     "output_type": "execute_result"
    }
   ],
   "source": [
    "model.predict(\n",
    "    strip_features_and_normaize(\n",
    "        \"Конструкция габионная из панелей из сетки с размерами ячейки 130х130 мм, из стальной проволоки диаметром 6 мм с цинковым покрытием, со стальным каркасом диаметром 12 мм, в комплекте со стальными U-образными скобами М10 (96 шт), размеры 4000х1000х1000 мм\"\n",
    "    )\n",
    ")"
   ]
  },
  {
   "cell_type": "code",
   "execution_count": 19,
   "id": "8f2f4e56-2e81-413d-b003-99cc856932fd",
   "metadata": {},
   "outputs": [
    {
     "data": {
      "text/plain": [
       "(100,)"
      ]
     },
     "execution_count": 19,
     "metadata": {},
     "output_type": "execute_result"
    }
   ],
   "source": [
    "model.get_sentence_vector(\n",
    "    strip_features_and_normaize(\n",
    "        \"Конструкция габионная из панелей из сетки с размерами ячейки 130х130 мм, из стальной проволоки диаметром 6 мм с цинковым покрытием, со стальным каркасом диаметром 12 мм, в комплекте со стальными U-образными скобами М10 (96 шт), размеры 4000х1000х1000 мм\"\n",
    "    )\n",
    ").shape"
   ]
  },
  {
   "cell_type": "code",
   "execution_count": 118,
   "id": "994c8f60-ee08-4660-9e18-867d74fc35d9",
   "metadata": {},
   "outputs": [],
   "source": [
    "classification[\"embed\"] = classification[\"text\"].apply(\n",
    "    lambda x: model.get_sentence_vector(x)\n",
    ")\n",
    "classification[\"label\"] = classification[\"group\"].apply(\n",
    "    lambda x: f\"__label__{'_'.join(x.split())}\"\n",
    ")"
   ]
  },
  {
   "cell_type": "code",
   "execution_count": 119,
   "id": "ac977017-e826-40e0-9a55-4e49f2c2a2f6",
   "metadata": {},
   "outputs": [
    {
     "name": "stdout",
     "output_type": "stream",
     "text": [
      "Got: 22.23.19.000.59.1.01.07-0770-000 Блоки дорожные пенополистирольные, модуль упругости при 1 % линейной деформации 2,5 МПа, плотность 15 кг/м3, сопротивление сжатию при 1 % деформации 0,025 МПа\n",
      "Target:  25.11.23.112.01.7.15.01-1183-000 Анкерный стержень 15,0мм без покрытия 1,00м\n"
     ]
    }
   ],
   "source": [
    "from sklearn.metrics.pairwise import cosine_similarity\n",
    "import numpy as np\n",
    "\n",
    "\n",
    "def get_group(text, df):\n",
    "    text_stripped = strip_features_and_normaize(text)\n",
    "    text_stripped_embed = model.get_sentence_vector(text_stripped)\n",
    "    text_group = model.predict(text_stripped)[0][0]\n",
    "\n",
    "    return text_group\n",
    "\n",
    "\n",
    "def get_result(text, df):\n",
    "    text_group = get_group(text, df)\n",
    "    text_embed = model.get_sentence_vector(text)\n",
    "\n",
    "    group = df[df[\"label\"] == text_group].reset_index(drop=True)\n",
    "    group_embed = np.stack(group[\"embed\"].to_list())\n",
    "\n",
    "    cosine_sims = cosine_similarity(group_embed, text_embed[None, :])\n",
    "    return group.iloc[np.argmax(cosine_sims)]\n",
    "\n",
    "\n",
    "sample_idx = 7\n",
    "result = get_result(train_data.record_name.iloc[sample_idx], classification)\n",
    "\n",
    "print(\"Got:\", result[\"Классификатор строительных ресурсов\"], result[\"Unnamed: 1\"])\n",
    "print(\n",
    "    \"Target: \",\n",
    "    train_data.ref_code.iloc[sample_idx],\n",
    "    train_data.record_name.iloc[sample_idx],\n",
    ")"
   ]
  },
  {
   "cell_type": "code",
   "execution_count": 120,
   "id": "a6ff3ef5-7889-45b5-8286-75ab38d1fed0",
   "metadata": {},
   "outputs": [],
   "source": [
    "train_data[\"pred\"] = train_data[\"record_name\"].apply(lambda x: model.predict(x)[0][0])"
   ]
  },
  {
   "cell_type": "code",
   "execution_count": 121,
   "id": "02bd5f2f-3ae8-4372-861e-7515e2108ac2",
   "metadata": {},
   "outputs": [],
   "source": [
    "def nasral(x):\n",
    "    try:\n",
    "        return classification[\n",
    "            classification[\"Классификатор строительных ресурсов\"] == x\n",
    "        ][\"label\"].values[0]\n",
    "    except:\n",
    "        return 0"
   ]
  },
  {
   "cell_type": "code",
   "execution_count": 122,
   "id": "e9de2772-ba47-4a08-bee1-1c7b57ed5099",
   "metadata": {},
   "outputs": [],
   "source": [
    "train_data[\"from_razmetka\"] = train_data[\"ref_code\"].apply(lambda x: nasral(x))"
   ]
  },
  {
   "cell_type": "code",
   "execution_count": 123,
   "id": "40b9a0d9-5066-45df-b950-2234a21b1cd8",
   "metadata": {},
   "outputs": [
    {
     "data": {
      "text/plain": [
       "0.0029081844619858743"
      ]
     },
     "execution_count": 123,
     "metadata": {},
     "output_type": "execute_result"
    }
   ],
   "source": [
    "(train_data[\"pred\"] == train_data[\"from_razmetka\"]).sum() / len(train_data)"
   ]
  },
  {
   "cell_type": "code",
   "execution_count": null,
   "id": "7fc3f372-8a15-4a97-8904-c9c610013aed",
   "metadata": {},
   "outputs": [],
   "source": []
  },
  {
   "cell_type": "code",
   "execution_count": null,
   "id": "06e47157-e677-4eb9-bfc5-ce9f1a6549c0",
   "metadata": {},
   "outputs": [],
   "source": []
  },
  {
   "cell_type": "code",
   "execution_count": null,
   "id": "572c329a-7d87-4396-a343-a18aa8f4b423",
   "metadata": {},
   "outputs": [],
   "source": []
  },
  {
   "cell_type": "code",
   "execution_count": 76,
   "id": "35547c4a-e0d1-4b05-a3fe-8ac0d842729c",
   "metadata": {
    "scrolled": true
   },
   "outputs": [
    {
     "ename": "TypeError",
     "evalue": "'<' not supported between instances of 'int' and 'str'",
     "output_type": "error",
     "traceback": [
      "\u001b[0;31m---------------------------------------------------------------------------\u001b[0m",
      "\u001b[0;31mTypeError\u001b[0m                                 Traceback (most recent call last)",
      "Cell \u001b[0;32mIn[76], line 1\u001b[0m\n\u001b[0;32m----> 1\u001b[0m \u001b[38;5;28mprint\u001b[39m(\u001b[43mclassification_report\u001b[49m\u001b[43m(\u001b[49m\u001b[43mtrain_data\u001b[49m\u001b[43m[\u001b[49m\u001b[38;5;124;43m'\u001b[39;49m\u001b[38;5;124;43mfrom_razmetka\u001b[39;49m\u001b[38;5;124;43m'\u001b[39;49m\u001b[43m]\u001b[49m\u001b[38;5;241;43m.\u001b[39;49m\u001b[43mfillna\u001b[49m\u001b[43m(\u001b[49m\u001b[38;5;124;43m'\u001b[39;49m\u001b[38;5;124;43m'\u001b[39;49m\u001b[43m)\u001b[49m\u001b[43m,\u001b[49m\u001b[43m \u001b[49m\u001b[43mtrain_data\u001b[49m\u001b[43m[\u001b[49m\u001b[38;5;124;43m'\u001b[39;49m\u001b[38;5;124;43mpred\u001b[39;49m\u001b[38;5;124;43m'\u001b[39;49m\u001b[43m]\u001b[49m\u001b[38;5;241;43m.\u001b[39;49m\u001b[43mfillna\u001b[49m\u001b[43m(\u001b[49m\u001b[38;5;124;43m'\u001b[39;49m\u001b[38;5;124;43m'\u001b[39;49m\u001b[43m)\u001b[49m\u001b[43m)\u001b[49m)\n",
      "File \u001b[0;32m~/anaconda3/envs/ametist/lib/python3.10/site-packages/sklearn/utils/_param_validation.py:213\u001b[0m, in \u001b[0;36mvalidate_params.<locals>.decorator.<locals>.wrapper\u001b[0;34m(*args, **kwargs)\u001b[0m\n\u001b[1;32m    207\u001b[0m \u001b[38;5;28;01mtry\u001b[39;00m:\n\u001b[1;32m    208\u001b[0m     \u001b[38;5;28;01mwith\u001b[39;00m config_context(\n\u001b[1;32m    209\u001b[0m         skip_parameter_validation\u001b[38;5;241m=\u001b[39m(\n\u001b[1;32m    210\u001b[0m             prefer_skip_nested_validation \u001b[38;5;129;01mor\u001b[39;00m global_skip_validation\n\u001b[1;32m    211\u001b[0m         )\n\u001b[1;32m    212\u001b[0m     ):\n\u001b[0;32m--> 213\u001b[0m         \u001b[38;5;28;01mreturn\u001b[39;00m \u001b[43mfunc\u001b[49m\u001b[43m(\u001b[49m\u001b[38;5;241;43m*\u001b[39;49m\u001b[43margs\u001b[49m\u001b[43m,\u001b[49m\u001b[43m \u001b[49m\u001b[38;5;241;43m*\u001b[39;49m\u001b[38;5;241;43m*\u001b[39;49m\u001b[43mkwargs\u001b[49m\u001b[43m)\u001b[49m\n\u001b[1;32m    214\u001b[0m \u001b[38;5;28;01mexcept\u001b[39;00m InvalidParameterError \u001b[38;5;28;01mas\u001b[39;00m e:\n\u001b[1;32m    215\u001b[0m     \u001b[38;5;66;03m# When the function is just a wrapper around an estimator, we allow\u001b[39;00m\n\u001b[1;32m    216\u001b[0m     \u001b[38;5;66;03m# the function to delegate validation to the estimator, but we replace\u001b[39;00m\n\u001b[1;32m    217\u001b[0m     \u001b[38;5;66;03m# the name of the estimator by the name of the function in the error\u001b[39;00m\n\u001b[1;32m    218\u001b[0m     \u001b[38;5;66;03m# message to avoid confusion.\u001b[39;00m\n\u001b[1;32m    219\u001b[0m     msg \u001b[38;5;241m=\u001b[39m re\u001b[38;5;241m.\u001b[39msub(\n\u001b[1;32m    220\u001b[0m         \u001b[38;5;124mr\u001b[39m\u001b[38;5;124m\"\u001b[39m\u001b[38;5;124mparameter of \u001b[39m\u001b[38;5;124m\\\u001b[39m\u001b[38;5;124mw+ must be\u001b[39m\u001b[38;5;124m\"\u001b[39m,\n\u001b[1;32m    221\u001b[0m         \u001b[38;5;124mf\u001b[39m\u001b[38;5;124m\"\u001b[39m\u001b[38;5;124mparameter of \u001b[39m\u001b[38;5;132;01m{\u001b[39;00mfunc\u001b[38;5;241m.\u001b[39m\u001b[38;5;18m__qualname__\u001b[39m\u001b[38;5;132;01m}\u001b[39;00m\u001b[38;5;124m must be\u001b[39m\u001b[38;5;124m\"\u001b[39m,\n\u001b[1;32m    222\u001b[0m         \u001b[38;5;28mstr\u001b[39m(e),\n\u001b[1;32m    223\u001b[0m     )\n",
      "File \u001b[0;32m~/anaconda3/envs/ametist/lib/python3.10/site-packages/sklearn/metrics/_classification.py:2604\u001b[0m, in \u001b[0;36mclassification_report\u001b[0;34m(y_true, y_pred, labels, target_names, sample_weight, digits, output_dict, zero_division)\u001b[0m\n\u001b[1;32m   2469\u001b[0m \u001b[38;5;129m@validate_params\u001b[39m(\n\u001b[1;32m   2470\u001b[0m     {\n\u001b[1;32m   2471\u001b[0m         \u001b[38;5;124m\"\u001b[39m\u001b[38;5;124my_true\u001b[39m\u001b[38;5;124m\"\u001b[39m: [\u001b[38;5;124m\"\u001b[39m\u001b[38;5;124marray-like\u001b[39m\u001b[38;5;124m\"\u001b[39m, \u001b[38;5;124m\"\u001b[39m\u001b[38;5;124msparse matrix\u001b[39m\u001b[38;5;124m\"\u001b[39m],\n\u001b[0;32m   (...)\u001b[0m\n\u001b[1;32m   2495\u001b[0m     zero_division\u001b[38;5;241m=\u001b[39m\u001b[38;5;124m\"\u001b[39m\u001b[38;5;124mwarn\u001b[39m\u001b[38;5;124m\"\u001b[39m,\n\u001b[1;32m   2496\u001b[0m ):\n\u001b[1;32m   2497\u001b[0m \u001b[38;5;250m    \u001b[39m\u001b[38;5;124;03m\"\"\"Build a text report showing the main classification metrics.\u001b[39;00m\n\u001b[1;32m   2498\u001b[0m \n\u001b[1;32m   2499\u001b[0m \u001b[38;5;124;03m    Read more in the :ref:`User Guide <classification_report>`.\u001b[39;00m\n\u001b[0;32m   (...)\u001b[0m\n\u001b[1;32m   2601\u001b[0m \u001b[38;5;124;03m    <BLANKLINE>\u001b[39;00m\n\u001b[1;32m   2602\u001b[0m \u001b[38;5;124;03m    \"\"\"\u001b[39;00m\n\u001b[0;32m-> 2604\u001b[0m     y_type, y_true, y_pred \u001b[38;5;241m=\u001b[39m \u001b[43m_check_targets\u001b[49m\u001b[43m(\u001b[49m\u001b[43my_true\u001b[49m\u001b[43m,\u001b[49m\u001b[43m \u001b[49m\u001b[43my_pred\u001b[49m\u001b[43m)\u001b[49m\n\u001b[1;32m   2606\u001b[0m     \u001b[38;5;28;01mif\u001b[39;00m labels \u001b[38;5;129;01mis\u001b[39;00m \u001b[38;5;28;01mNone\u001b[39;00m:\n\u001b[1;32m   2607\u001b[0m         labels \u001b[38;5;241m=\u001b[39m unique_labels(y_true, y_pred)\n",
      "File \u001b[0;32m~/anaconda3/envs/ametist/lib/python3.10/site-packages/sklearn/metrics/_classification.py:86\u001b[0m, in \u001b[0;36m_check_targets\u001b[0;34m(y_true, y_pred)\u001b[0m\n\u001b[1;32m     59\u001b[0m \u001b[38;5;250m\u001b[39m\u001b[38;5;124;03m\"\"\"Check that y_true and y_pred belong to the same classification task.\u001b[39;00m\n\u001b[1;32m     60\u001b[0m \n\u001b[1;32m     61\u001b[0m \u001b[38;5;124;03mThis converts multiclass or binary types to a common shape, and raises a\u001b[39;00m\n\u001b[0;32m   (...)\u001b[0m\n\u001b[1;32m     83\u001b[0m \u001b[38;5;124;03my_pred : array or indicator matrix\u001b[39;00m\n\u001b[1;32m     84\u001b[0m \u001b[38;5;124;03m\"\"\"\u001b[39;00m\n\u001b[1;32m     85\u001b[0m check_consistent_length(y_true, y_pred)\n\u001b[0;32m---> 86\u001b[0m type_true \u001b[38;5;241m=\u001b[39m \u001b[43mtype_of_target\u001b[49m\u001b[43m(\u001b[49m\u001b[43my_true\u001b[49m\u001b[43m,\u001b[49m\u001b[43m \u001b[49m\u001b[43minput_name\u001b[49m\u001b[38;5;241;43m=\u001b[39;49m\u001b[38;5;124;43m\"\u001b[39;49m\u001b[38;5;124;43my_true\u001b[39;49m\u001b[38;5;124;43m\"\u001b[39;49m\u001b[43m)\u001b[49m\n\u001b[1;32m     87\u001b[0m type_pred \u001b[38;5;241m=\u001b[39m type_of_target(y_pred, input_name\u001b[38;5;241m=\u001b[39m\u001b[38;5;124m\"\u001b[39m\u001b[38;5;124my_pred\u001b[39m\u001b[38;5;124m\"\u001b[39m)\n\u001b[1;32m     89\u001b[0m y_type \u001b[38;5;241m=\u001b[39m {type_true, type_pred}\n",
      "File \u001b[0;32m~/anaconda3/envs/ametist/lib/python3.10/site-packages/sklearn/utils/multiclass.py:395\u001b[0m, in \u001b[0;36mtype_of_target\u001b[0;34m(y, input_name)\u001b[0m\n\u001b[1;32m    393\u001b[0m \u001b[38;5;28;01mif\u001b[39;00m issparse(first_row):\n\u001b[1;32m    394\u001b[0m     first_row \u001b[38;5;241m=\u001b[39m first_row\u001b[38;5;241m.\u001b[39mdata\n\u001b[0;32m--> 395\u001b[0m \u001b[38;5;28;01mif\u001b[39;00m \u001b[43mxp\u001b[49m\u001b[38;5;241;43m.\u001b[39;49m\u001b[43munique_values\u001b[49m\u001b[43m(\u001b[49m\u001b[43my\u001b[49m\u001b[43m)\u001b[49m\u001b[38;5;241m.\u001b[39mshape[\u001b[38;5;241m0\u001b[39m] \u001b[38;5;241m>\u001b[39m \u001b[38;5;241m2\u001b[39m \u001b[38;5;129;01mor\u001b[39;00m (y\u001b[38;5;241m.\u001b[39mndim \u001b[38;5;241m==\u001b[39m \u001b[38;5;241m2\u001b[39m \u001b[38;5;129;01mand\u001b[39;00m \u001b[38;5;28mlen\u001b[39m(first_row) \u001b[38;5;241m>\u001b[39m \u001b[38;5;241m1\u001b[39m):\n\u001b[1;32m    396\u001b[0m     \u001b[38;5;66;03m# [1, 2, 3] or [[1., 2., 3]] or [[1, 2]]\u001b[39;00m\n\u001b[1;32m    397\u001b[0m     \u001b[38;5;28;01mreturn\u001b[39;00m \u001b[38;5;124m\"\u001b[39m\u001b[38;5;124mmulticlass\u001b[39m\u001b[38;5;124m\"\u001b[39m \u001b[38;5;241m+\u001b[39m suffix\n\u001b[1;32m    398\u001b[0m \u001b[38;5;28;01melse\u001b[39;00m:\n",
      "File \u001b[0;32m~/anaconda3/envs/ametist/lib/python3.10/site-packages/sklearn/utils/_array_api.py:307\u001b[0m, in \u001b[0;36m_NumPyAPIWrapper.unique_values\u001b[0;34m(self, x)\u001b[0m\n\u001b[1;32m    306\u001b[0m \u001b[38;5;28;01mdef\u001b[39;00m \u001b[38;5;21munique_values\u001b[39m(\u001b[38;5;28mself\u001b[39m, x):\n\u001b[0;32m--> 307\u001b[0m     \u001b[38;5;28;01mreturn\u001b[39;00m \u001b[43mnumpy\u001b[49m\u001b[38;5;241;43m.\u001b[39;49m\u001b[43munique\u001b[49m\u001b[43m(\u001b[49m\u001b[43mx\u001b[49m\u001b[43m)\u001b[49m\n",
      "File \u001b[0;32m~/anaconda3/envs/ametist/lib/python3.10/site-packages/numpy/lib/arraysetops.py:274\u001b[0m, in \u001b[0;36munique\u001b[0;34m(ar, return_index, return_inverse, return_counts, axis, equal_nan)\u001b[0m\n\u001b[1;32m    272\u001b[0m ar \u001b[38;5;241m=\u001b[39m np\u001b[38;5;241m.\u001b[39masanyarray(ar)\n\u001b[1;32m    273\u001b[0m \u001b[38;5;28;01mif\u001b[39;00m axis \u001b[38;5;129;01mis\u001b[39;00m \u001b[38;5;28;01mNone\u001b[39;00m:\n\u001b[0;32m--> 274\u001b[0m     ret \u001b[38;5;241m=\u001b[39m \u001b[43m_unique1d\u001b[49m\u001b[43m(\u001b[49m\u001b[43mar\u001b[49m\u001b[43m,\u001b[49m\u001b[43m \u001b[49m\u001b[43mreturn_index\u001b[49m\u001b[43m,\u001b[49m\u001b[43m \u001b[49m\u001b[43mreturn_inverse\u001b[49m\u001b[43m,\u001b[49m\u001b[43m \u001b[49m\u001b[43mreturn_counts\u001b[49m\u001b[43m,\u001b[49m\u001b[43m \u001b[49m\n\u001b[1;32m    275\u001b[0m \u001b[43m                    \u001b[49m\u001b[43mequal_nan\u001b[49m\u001b[38;5;241;43m=\u001b[39;49m\u001b[43mequal_nan\u001b[49m\u001b[43m)\u001b[49m\n\u001b[1;32m    276\u001b[0m     \u001b[38;5;28;01mreturn\u001b[39;00m _unpack_tuple(ret)\n\u001b[1;32m    278\u001b[0m \u001b[38;5;66;03m# axis was specified and not None\u001b[39;00m\n",
      "File \u001b[0;32m~/anaconda3/envs/ametist/lib/python3.10/site-packages/numpy/lib/arraysetops.py:336\u001b[0m, in \u001b[0;36m_unique1d\u001b[0;34m(ar, return_index, return_inverse, return_counts, equal_nan)\u001b[0m\n\u001b[1;32m    334\u001b[0m     aux \u001b[38;5;241m=\u001b[39m ar[perm]\n\u001b[1;32m    335\u001b[0m \u001b[38;5;28;01melse\u001b[39;00m:\n\u001b[0;32m--> 336\u001b[0m     \u001b[43mar\u001b[49m\u001b[38;5;241;43m.\u001b[39;49m\u001b[43msort\u001b[49m\u001b[43m(\u001b[49m\u001b[43m)\u001b[49m\n\u001b[1;32m    337\u001b[0m     aux \u001b[38;5;241m=\u001b[39m ar\n\u001b[1;32m    338\u001b[0m mask \u001b[38;5;241m=\u001b[39m np\u001b[38;5;241m.\u001b[39mempty(aux\u001b[38;5;241m.\u001b[39mshape, dtype\u001b[38;5;241m=\u001b[39mnp\u001b[38;5;241m.\u001b[39mbool_)\n",
      "\u001b[0;31mTypeError\u001b[0m: '<' not supported between instances of 'int' and 'str'"
     ]
    }
   ],
   "source": [
    "print(\n",
    "    classification_report(\n",
    "        train_data[\"from_razmetka\"].fillna(\"\"), train_data[\"pred\"].fillna(\"\")\n",
    "    )\n",
    ")"
   ]
  },
  {
   "cell_type": "code",
   "execution_count": 71,
   "id": "004c686c-54ce-4e5e-8137-a97988603e66",
   "metadata": {},
   "outputs": [
    {
     "data": {
      "text/html": [
       "<div>\n",
       "<style scoped>\n",
       "    .dataframe tbody tr th:only-of-type {\n",
       "        vertical-align: middle;\n",
       "    }\n",
       "\n",
       "    .dataframe tbody tr th {\n",
       "        vertical-align: top;\n",
       "    }\n",
       "\n",
       "    .dataframe thead th {\n",
       "        text-align: right;\n",
       "    }\n",
       "</style>\n",
       "<table border=\"1\" class=\"dataframe\">\n",
       "  <thead>\n",
       "    <tr style=\"text-align: right;\">\n",
       "      <th></th>\n",
       "      <th>record_name</th>\n",
       "      <th>record_name_2</th>\n",
       "      <th>ref_code</th>\n",
       "      <th>ref_name</th>\n",
       "      <th>ref_unit</th>\n",
       "      <th>pred</th>\n",
       "      <th>from_razmetka</th>\n",
       "    </tr>\n",
       "  </thead>\n",
       "  <tbody>\n",
       "    <tr>\n",
       "      <th>0</th>\n",
       "      <td>DIN -рейка оцинкованная ТН35-7.5 100 см (Chint)</td>\n",
       "      <td>DIN-рейка 35х7,5 мм длиной 1000 мм</td>\n",
       "      <td>27.33.13.130.20.2.08.01-0001-000</td>\n",
       "      <td>DIN-рейки металлические, оцинкованные, размеры...</td>\n",
       "      <td>100 шт</td>\n",
       "      <td>__label__Арматура_электромонтажная</td>\n",
       "      <td>__label__DIN-рейки_металлические</td>\n",
       "    </tr>\n",
       "    <tr>\n",
       "      <th>1</th>\n",
       "      <td>Анкерный элемент ТехноНиколь 8*45мм</td>\n",
       "      <td>Анкерный элемент TN 8x4.5</td>\n",
       "      <td>25.94.11.190.01.7.15.01-1169-000</td>\n",
       "      <td>Анкер грунтовый забивной самораскрывающийся, о...</td>\n",
       "      <td>шт</td>\n",
       "      <td>__label__Конструкции_и_детали_конструкций_стро...</td>\n",
       "      <td>__label__Анкеры</td>\n",
       "    </tr>\n",
       "    <tr>\n",
       "      <th>2</th>\n",
       "      <td>Анкер забивной М10 DRM 12x40 сталь</td>\n",
       "      <td>Анкер втулочный M10</td>\n",
       "      <td>25.94.11.190.01.7.15.01-0037-000</td>\n",
       "      <td>Анкер забивной латунный, диаметр внутренней ре...</td>\n",
       "      <td>шт</td>\n",
       "      <td>__label__Анкеры</td>\n",
       "      <td>__label__Анкеры</td>\n",
       "    </tr>\n",
       "    <tr>\n",
       "      <th>3</th>\n",
       "      <td>Анкер забивной М10/12x40</td>\n",
       "      <td>Анкер втулочный M10</td>\n",
       "      <td>25.94.11.190.01.7.15.01-0037-000</td>\n",
       "      <td>Анкер забивной латунный, диаметр внутренней ре...</td>\n",
       "      <td>шт</td>\n",
       "      <td>__label__Материалы_и_изделия_строительного_и_с...</td>\n",
       "      <td>__label__Анкеры</td>\n",
       "    </tr>\n",
       "    <tr>\n",
       "      <th>4</th>\n",
       "      <td>Анкер забивной М8 LAZ латунь</td>\n",
       "      <td>Анкер втулочный M8</td>\n",
       "      <td>25.94.11.190.01.7.15.01-0036-000</td>\n",
       "      <td>Анкер забивной латунный, диаметр внутренней ре...</td>\n",
       "      <td>шт</td>\n",
       "      <td>__label__Материалы_и_изделия_строительного_и_с...</td>\n",
       "      <td>__label__Анкеры</td>\n",
       "    </tr>\n",
       "    <tr>\n",
       "      <th>...</th>\n",
       "      <td>...</td>\n",
       "      <td>...</td>\n",
       "      <td>...</td>\n",
       "      <td>...</td>\n",
       "      <td>...</td>\n",
       "      <td>...</td>\n",
       "      <td>...</td>\n",
       "    </tr>\n",
       "    <tr>\n",
       "      <th>2402</th>\n",
       "      <td>Корпус замка Фабрика замков L 008</td>\n",
       "      <td>Межкомнатные двери 900х2000</td>\n",
       "      <td>27.12.31.000.20.4.04.04-0002-000</td>\n",
       "      <td>Щит учетно-распределительный встраиваемый ЩУРВ...</td>\n",
       "      <td>шт</td>\n",
       "      <td>__label__Материалы_и_изделия_тепло-_и_звукоизо...</td>\n",
       "      <td>__label__Щиты_учетно-распределительные</td>\n",
       "    </tr>\n",
       "    <tr>\n",
       "      <th>2403</th>\n",
       "      <td>Эмаль Кремнийорганическая Термостойкая (8) 81....</td>\n",
       "      <td>Кремнийорганическая эмаль КО-8104</td>\n",
       "      <td>20.30.12.130.14.4.04.04-0010-005</td>\n",
       "      <td>Эмаль кремнийорганическая термостойкая КО-811К...</td>\n",
       "      <td>т</td>\n",
       "      <td>__label__Материалы_лакокрасочные_на_основе_сло...</td>\n",
       "      <td>__label__Эмали_кремнийорганические</td>\n",
       "    </tr>\n",
       "    <tr>\n",
       "      <th>2404</th>\n",
       "      <td>Кремнийорганическая эмаль КО-8104</td>\n",
       "      <td>Кремнийорганическая эмаль КО-8104</td>\n",
       "      <td>20.30.12.130.14.4.04.04-0001-000</td>\n",
       "      <td>Эмаль кремнийорганическая термостойкая КО-88</td>\n",
       "      <td>т</td>\n",
       "      <td>__label__Материалы_лакокрасочные_на_основе_сло...</td>\n",
       "      <td>__label__Эмали_кремнийорганические</td>\n",
       "    </tr>\n",
       "    <tr>\n",
       "      <th>2405</th>\n",
       "      <td>Кремнийорганическая эмаль КО-8104 (серебристо ...</td>\n",
       "      <td>Кремнийорганическая эмаль КО-8104</td>\n",
       "      <td>20.30.12.130.14.4.04.04-0001-000</td>\n",
       "      <td>Эмаль кремнийорганическая термостойкая КО-88</td>\n",
       "      <td>т</td>\n",
       "      <td>__label__Материалы_лакокрасочные_на_основе_сло...</td>\n",
       "      <td>__label__Эмали_кремнийорганические</td>\n",
       "    </tr>\n",
       "    <tr>\n",
       "      <th>2406</th>\n",
       "      <td>Эмаль ПФ - 115 белая</td>\n",
       "      <td>Эмаль ПФ - 115 белая</td>\n",
       "      <td>20.30.12.14.4.04.08-0001</td>\n",
       "      <td>Эмаль ПФ-115 белая</td>\n",
       "      <td>кг</td>\n",
       "      <td>__label__Материалы_лакокрасочные_на_основе_сло...</td>\n",
       "      <td>0</td>\n",
       "    </tr>\n",
       "  </tbody>\n",
       "</table>\n",
       "<p>2407 rows × 7 columns</p>\n",
       "</div>"
      ],
      "text/plain": [
       "                                            record_name  \\\n",
       "0       DIN -рейка оцинкованная ТН35-7.5 100 см (Chint)   \n",
       "1                   Анкерный элемент ТехноНиколь 8*45мм   \n",
       "2                    Анкер забивной М10 DRM 12x40 сталь   \n",
       "3                              Анкер забивной М10/12x40   \n",
       "4                          Анкер забивной М8 LAZ латунь   \n",
       "...                                                 ...   \n",
       "2402                  Корпус замка Фабрика замков L 008   \n",
       "2403  Эмаль Кремнийорганическая Термостойкая (8) 81....   \n",
       "2404                  Кремнийорганическая эмаль КО-8104   \n",
       "2405  Кремнийорганическая эмаль КО-8104 (серебристо ...   \n",
       "2406                               Эмаль ПФ - 115 белая   \n",
       "\n",
       "                           record_name_2                          ref_code  \\\n",
       "0     DIN-рейка 35х7,5 мм длиной 1000 мм  27.33.13.130.20.2.08.01-0001-000   \n",
       "1              Анкерный элемент TN 8x4.5  25.94.11.190.01.7.15.01-1169-000   \n",
       "2                    Анкер втулочный M10  25.94.11.190.01.7.15.01-0037-000   \n",
       "3                    Анкер втулочный M10  25.94.11.190.01.7.15.01-0037-000   \n",
       "4                     Анкер втулочный M8  25.94.11.190.01.7.15.01-0036-000   \n",
       "...                                  ...                               ...   \n",
       "2402         Межкомнатные двери 900х2000  27.12.31.000.20.4.04.04-0002-000   \n",
       "2403   Кремнийорганическая эмаль КО-8104  20.30.12.130.14.4.04.04-0010-005   \n",
       "2404   Кремнийорганическая эмаль КО-8104  20.30.12.130.14.4.04.04-0001-000   \n",
       "2405   Кремнийорганическая эмаль КО-8104  20.30.12.130.14.4.04.04-0001-000   \n",
       "2406                Эмаль ПФ - 115 белая          20.30.12.14.4.04.08-0001   \n",
       "\n",
       "                                               ref_name ref_unit  \\\n",
       "0     DIN-рейки металлические, оцинкованные, размеры...   100 шт   \n",
       "1     Анкер грунтовый забивной самораскрывающийся, о...       шт   \n",
       "2     Анкер забивной латунный, диаметр внутренней ре...       шт   \n",
       "3     Анкер забивной латунный, диаметр внутренней ре...       шт   \n",
       "4     Анкер забивной латунный, диаметр внутренней ре...       шт   \n",
       "...                                                 ...      ...   \n",
       "2402  Щит учетно-распределительный встраиваемый ЩУРВ...       шт   \n",
       "2403  Эмаль кремнийорганическая термостойкая КО-811К...        т   \n",
       "2404       Эмаль кремнийорганическая термостойкая КО-88        т   \n",
       "2405       Эмаль кремнийорганическая термостойкая КО-88        т   \n",
       "2406                                 Эмаль ПФ-115 белая       кг   \n",
       "\n",
       "                                                   pred  \\\n",
       "0                    __label__Арматура_электромонтажная   \n",
       "1     __label__Конструкции_и_детали_конструкций_стро...   \n",
       "2                                       __label__Анкеры   \n",
       "3     __label__Материалы_и_изделия_строительного_и_с...   \n",
       "4     __label__Материалы_и_изделия_строительного_и_с...   \n",
       "...                                                 ...   \n",
       "2402  __label__Материалы_и_изделия_тепло-_и_звукоизо...   \n",
       "2403  __label__Материалы_лакокрасочные_на_основе_сло...   \n",
       "2404  __label__Материалы_лакокрасочные_на_основе_сло...   \n",
       "2405  __label__Материалы_лакокрасочные_на_основе_сло...   \n",
       "2406  __label__Материалы_лакокрасочные_на_основе_сло...   \n",
       "\n",
       "                               from_razmetka  \n",
       "0           __label__DIN-рейки_металлические  \n",
       "1                            __label__Анкеры  \n",
       "2                            __label__Анкеры  \n",
       "3                            __label__Анкеры  \n",
       "4                            __label__Анкеры  \n",
       "...                                      ...  \n",
       "2402  __label__Щиты_учетно-распределительные  \n",
       "2403      __label__Эмали_кремнийорганические  \n",
       "2404      __label__Эмали_кремнийорганические  \n",
       "2405      __label__Эмали_кремнийорганические  \n",
       "2406                                       0  \n",
       "\n",
       "[2407 rows x 7 columns]"
      ]
     },
     "execution_count": 71,
     "metadata": {},
     "output_type": "execute_result"
    }
   ],
   "source": [
    "train_data"
   ]
  },
  {
   "cell_type": "code",
   "execution_count": null,
   "id": "e6be77d4-5367-4b03-a1a5-7fcd8ef46abc",
   "metadata": {},
   "outputs": [],
   "source": []
  }
 ],
 "metadata": {
  "kernelspec": {
   "display_name": "Python 3",
   "language": "python",
   "name": "python3"
  },
  "language_info": {
   "codemirror_mode": {
    "name": "ipython",
    "version": 3
   },
   "file_extension": ".py",
   "mimetype": "text/x-python",
   "name": "python",
   "nbconvert_exporter": "python",
   "pygments_lexer": "ipython3",
   "version": "3.11.6"
  }
 },
 "nbformat": 4,
 "nbformat_minor": 5
}
